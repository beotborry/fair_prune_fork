{
 "cells": [
  {
   "cell_type": "code",
   "execution_count": 9,
   "id": "327e3b2c-0cb1-4d75-97fa-b05038cc15b5",
   "metadata": {},
   "outputs": [],
   "source": [
    "from scipy.io import loadmat\n",
    "import numpy as np"
   ]
  },
  {
   "cell_type": "code",
   "execution_count": 10,
   "id": "9b093f8f-3253-4929-b737-8456eae37af1",
   "metadata": {},
   "outputs": [],
   "source": [
    "def calc_fairness_metric(constraint, confu_mat, num_groups=2, num_classes=2):\n",
    "    if constraint == 'eopp':\n",
    "        '''\n",
    "        Compute EO disparity\n",
    "        '''\n",
    "        group0_tn, group0_fp, group0_fn, group0_tp = confu_mat['0'].ravel()\n",
    "        group1_tn, group1_fp, group1_fn, group1_tp = confu_mat['1'].ravel()\n",
    "\n",
    "        pivot = (group0_tp + group1_tp) / (group0_fn + group0_tp + group1_fn + group1_tp)\n",
    "        group0_tpr = group0_tp / (group0_fn + group0_tp)\n",
    "        group1_tpr = group1_tp / (group1_fn + group1_tp)\n",
    "\n",
    "        return max(abs(group0_tpr - pivot), abs(group1_tpr - pivot)) # from fairbatch paper\n",
    "        #return abs(group0_tp / (group0_fn + group0_tp) - group1_tp / (group1_fn + group1_tp))\n",
    "\n",
    "    elif constraint == 'eo':\n",
    "        '''\n",
    "        Compute ED disparity \n",
    "        '''\n",
    "\n",
    "        group0_tn, group0_fp, group0_fn, group0_tp = confu_mat['0'].ravel()\n",
    "        group1_tn, group1_fp, group1_fn, group1_tp = confu_mat['1'].ravel()\n",
    "        \n",
    "        pivot_1 = (group0_tp + group1_tp) / (group0_fn + group0_tp + group1_fn + group1_tp)\n",
    "        group0_tpr = group0_tp / (group0_fn + group0_tp)\n",
    "        group1_tpr = group1_tp / (group1_fn + group1_tp)\n",
    "\n",
    "        EO_Y_1 = max(abs(group0_tpr - pivot_1), abs(group1_tpr - pivot_1))\n",
    "\n",
    "        pivot_0 = (group0_fp + group1_fp) / (group0_tn + group0_fp + group1_tn + group1_fp)\n",
    "        group0_fpr = (group0_fp) / (group0_tn + group0_fp)\n",
    "        group1_fpr = (group1_fp) / (group1_tn + group1_fp)\n",
    "\n",
    "        EO_Y_0 = max(abs(group0_fpr - pivot_0), abs(group1_fpr - pivot_0))\n",
    "\n",
    "        return max(EO_Y_0, EO_Y_1)\n",
    "\n",
    "    elif constraint == 'dp':\n",
    "        pass\n",
    "\n",
    "def calc_acc(constraint, confu_mat, num_classes=2, num_groups=2):\n",
    "    group0_tn, group0_fp, group0_fn, group0_tp = confu_mat['0'].ravel()\n",
    "    group1_tn, group1_fp, group1_fn, group1_tp = confu_mat['1'].ravel()\n",
    "    \n",
    "    return (group0_tn + group0_tp + group1_tn + group1_tp) / (confu_mat['0'].ravel().sum() + confu_mat['1'].ravel().sum())\n"
   ]
  },
  {
   "cell_type": "code",
   "execution_count": 11,
   "id": "a9dfc769-3c69-4e24-99e4-2ab17e2d5118",
   "metadata": {},
   "outputs": [],
   "source": [
    "\n",
    "method = \"adv_debiasing\"\n",
    "dataset = \"adult\"\n",
    "sen_attr_dict = {\n",
    "    \"adult\": \"sex\",\n",
    "    \"compas\": \"sex\",\n",
    "    \"retiring_adult\": \"race\",\n",
    "    \"retiring_adult\": \"race\"\n",
    "}\n",
    "\n",
    "sen_attr = sen_attr_dict[dataset]\n",
    "constraint = \"eo\"\n"
   ]
  },
  {
   "cell_type": "code",
   "execution_count": 12,
   "id": "92ca076e-af3b-4a60-8d31-1720fa7d8611",
   "metadata": {},
   "outputs": [],
   "source": [
    "\n",
    "filename_epi = \"mlp_{}_seed{}_epochs50_bs128_lr{:.4f}_decay{:.4f}\"\n",
    "seed_arr = [0, 1, 2]\n",
    "date = \"20220214\"\n",
    "\n",
    "if method == \"reweighting\":\n",
    "    pass\n",
    "elif method == \"adv_debiasing\":\n",
    "    filename = filename_epi + \"_adv_lamb{}_eta{}_constraint{}_test_confu\"\n",
    "    lr = 0.0005\n",
    "    decay = 0.0005\n",
    "#     lamb_arr = [1, 2, 3, 4, 5, 6, 7, 8, 9, 10]\n",
    "    lamb_arr = [0.001, 0.003, 0.01, 0.03, 0.1, 0.3, 1.0, 3.0, 10.0, 20.0, 30.0, 50.0, 100.0]\n",
    "#     eta_arr = [0.001, 0.003, 0.005, 0.007, 0.01]\n",
    "    eta_arr = [0.001, 0.003, 0.005, 0.01]\n",
    "    \n"
   ]
  },
  {
   "cell_type": "code",
   "execution_count": 13,
   "id": "7c8d5c4f-06f1-4c02-95da-657bb04ca67c",
   "metadata": {},
   "outputs": [
    {
     "name": "stdout",
     "output_type": "stream",
     "text": [
      "[[0.04735459 0.0474403  0.04736771 0.04478351 0.03840523 0.07828629\n",
      "  0.13010825 0.12605614 0.15493432 0.15425315 0.12078113 0.18673295\n",
      "  0.13334947]\n",
      " [0.04692313 0.04756292 0.04633748 0.04467401 0.03839868 0.0631434\n",
      "  0.14247899 0.09014563 0.14382939 0.20999088 0.22461673 0.07916525\n",
      "  0.12614363]\n",
      " [0.04784919 0.04760517 0.04675826 0.04408958 0.03838022 0.07563741\n",
      "  0.11846954 0.07724929 0.17246454 0.09865095 0.09877722 0.09659495\n",
      "  0.08706659]\n",
      " [0.04769088 0.04760517 0.04664876 0.04395506 0.03762436 0.06565408\n",
      "  0.11095396 0.09079331 0.08579459 0.09932591 0.10949866 0.11711025\n",
      "  0.11072179]] [[0.85140962 0.8518887  0.85122535 0.85115165 0.84956698 0.84779805\n",
      "  0.83814262 0.81138751 0.70005528 0.73060623 0.69323752 0.71464898\n",
      "  0.69449051]\n",
      " [0.85059886 0.85155703 0.85133591 0.85081997 0.84938272 0.84849825\n",
      "  0.83887968 0.8212272  0.7634052  0.72139303 0.6976967  0.6444813\n",
      "  0.58570112]\n",
      " [0.85085683 0.85174129 0.85034089 0.85067256 0.85026718 0.84742952\n",
      "  0.84179104 0.81787359 0.76023586 0.71243781 0.70071863 0.67049936\n",
      "  0.60571218]\n",
      " [0.85067256 0.85185185 0.8511148  0.85122535 0.84982495 0.84772434\n",
      "  0.84094343 0.81868436 0.75610835 0.73502856 0.68122351 0.64153308\n",
      "  0.5946195 ]]\n"
     ]
    }
   ],
   "source": [
    "\n",
    "results_fair = np.zeros((len(seed_arr), len(eta_arr), len(lamb_arr)))\n",
    "results_acc = np.zeros((len(seed_arr), len(eta_arr), len(lamb_arr)))\n",
    "\n",
    "for seed in seed_arr:\n",
    "    for i, eta in enumerate(eta_arr):\n",
    "        for j, lamb in enumerate(lamb_arr):\n",
    "            confu_mat = loadmat(\"./results/{}/{}/{}/{}\".format(date, dataset, method, filename.format(sen_attr, seed, lr, decay, lamb, eta, constraint)), appendmat=False)\n",
    "#             print(calc_fairness_metric(constraint, confu_mat))\n",
    "            results_fair[seed, i, j] += calc_fairness_metric(constraint, confu_mat)\n",
    "            results_acc[seed, i, j] += calc_acc(constraint, confu_mat)\n",
    "\n",
    "results_fair = np.mean(results_fair, axis=0)\n",
    "results_acc = np.mean(results_acc, axis=0)\n",
    "\n",
    "\n",
    "print(results_fair, results_acc)\n"
   ]
  },
  {
   "cell_type": "code",
   "execution_count": 14,
   "id": "bf6bbb87-f12e-4e64-8f66-44256491a965",
   "metadata": {},
   "outputs": [
    {
     "name": "stdout",
     "output_type": "stream",
     "text": [
      "(3, 4)\n",
      "0.037624364302983805 0.8498249493274369\n"
     ]
    }
   ],
   "source": [
    "\n",
    "argmin = np.unravel_index(results_fair.argmin(), results_fair.shape)\n",
    "print(argmin)\n",
    "print(results_fair[argmin], results_acc[argmin])\n"
   ]
  },
  {
   "cell_type": "code",
   "execution_count": 15,
   "id": "70d9ee50-ecfc-478d-9b02-541d0d4954c7",
   "metadata": {},
   "outputs": [
    {
     "data": {
      "image/png": "[encoded data removed]",
      "text/plain": [
       "<Figure size 432x288 with 2 Axes>"
      ]
     },
     "metadata": {
      "needs_background": "light"
     },
     "output_type": "display_data"
    }
   ],
   "source": [
    "\n",
    "import matplotlib.pyplot as plt\n",
    "\n",
    "x = lamb_arr\n",
    "y1 = results_acc[argmin[0], :]\n",
    "y2 = results_fair[argmin[0], :]\n",
    "\n",
    "fig, ax1 = plt.subplots()\n",
    "\n",
    "ax2 = ax1.twinx()\n",
    "ax1.plot(x, y1, 'go-')\n",
    "ax2.plot(x, y2, 'bo-')\n",
    "\n",
    "ax1.set_xlabel('lamb')\n",
    "ax1.set_ylabel('Test Acc', color='g')\n",
    "ax2.set_ylabel('Test Fair', color='b')\n",
    "\n",
    "plt.title(f\"adversary lr: {eta_arr[argmin[0]]}\")\n",
    "\n",
    "plt.show()\n",
    "\n",
    "\n"
   ]
  },
  {
   "cell_type": "code",
   "execution_count": null,
   "id": "17c07540-1030-430e-a6fd-5f3a6f228fa7",
   "metadata": {},
   "outputs": [],
   "source": []
  },
  {
   "cell_type": "code",
   "execution_count": null,
   "id": "426713cc-6814-4af0-bda6-098e48569f9e",
   "metadata": {},
   "outputs": [],
   "source": []
  },
  {
   "cell_type": "code",
   "execution_count": null,
   "id": "a2687cc0-b9cb-4470-bc8e-f157654c6ea1",
   "metadata": {},
   "outputs": [],
   "source": []
  }
 ],
 "metadata": {
  "kernelspec": {
   "display_name": "Python 3",
   "language": "python",
   "name": "python3"
  },
  "language_info": {
   "codemirror_mode": {
    "name": "ipython",
    "version": 3
   },
   "file_extension": ".py",
   "mimetype": "text/x-python",
   "name": "python",
   "nbconvert_exporter": "python",
   "pygments_lexer": "ipython3",
   "version": "3.8.8"
  }
 },
 "nbformat": 4,
 "nbformat_minor": 5
}
