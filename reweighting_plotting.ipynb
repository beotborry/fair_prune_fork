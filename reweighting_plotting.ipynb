{
 "cells": [
  {
   "cell_type": "code",
   "execution_count": 1,
   "id": "56b91917-2a55-4de6-b2bd-325ee1e93af5",
   "metadata": {},
   "outputs": [],
   "source": [
    "from scipy.io import loadmat\n",
    "import numpy as np"
   ]
  },
  {
   "cell_type": "code",
   "execution_count": 2,
   "id": "f6695b72-9523-4bbb-ac7d-1001820f4ec7",
   "metadata": {},
   "outputs": [],
   "source": [
    "def calc_fairness_metric(constraint, confu_mat, num_groups=2, num_classes=2):\n",
    "    if constraint == 'eopp':\n",
    "        '''\n",
    "        Compute EO disparity\n",
    "        '''\n",
    "        group0_tn, group0_fp, group0_fn, group0_tp = confu_mat['0'].ravel()\n",
    "        group1_tn, group1_fp, group1_fn, group1_tp = confu_mat['1'].ravel()\n",
    "\n",
    "        pivot = (group0_tp + group1_tp) / (group0_fn + group0_tp + group1_fn + group1_tp)\n",
    "        group0_tpr = group0_tp / (group0_fn + group0_tp)\n",
    "        group1_tpr = group1_tp / (group1_fn + group1_tp)\n",
    "\n",
    "        return max(abs(group0_tpr - pivot), abs(group1_tpr - pivot)) # from fairbatch paper\n",
    "        #return abs(group0_tp / (group0_fn + group0_tp) - group1_tp / (group1_fn + group1_tp))\n",
    "\n",
    "    elif constraint == 'eo':\n",
    "        '''\n",
    "        Compute ED disparity \n",
    "        '''\n",
    "\n",
    "        group0_tn, group0_fp, group0_fn, group0_tp = confu_mat['0'].ravel()\n",
    "        group1_tn, group1_fp, group1_fn, group1_tp = confu_mat['1'].ravel()\n",
    "        \n",
    "        pivot_1 = (group0_tp + group1_tp) / (group0_fn + group0_tp + group1_fn + group1_tp)\n",
    "        group0_tpr = group0_tp / (group0_fn + group0_tp)\n",
    "        group1_tpr = group1_tp / (group1_fn + group1_tp)\n",
    "\n",
    "        EO_Y_1 = max(abs(group0_tpr - pivot_1), abs(group1_tpr - pivot_1))\n",
    "\n",
    "        pivot_0 = (group0_fp + group1_fp) / (group0_tn + group0_fp + group1_tn + group1_fp)\n",
    "        group0_fpr = (group0_fp) / (group0_tn + group0_fp)\n",
    "        group1_fpr = (group1_fp) / (group1_tn + group1_fp)\n",
    "\n",
    "        EO_Y_0 = max(abs(group0_fpr - pivot_0), abs(group1_fpr - pivot_0))\n",
    "\n",
    "        return max(EO_Y_0, EO_Y_1)\n",
    "\n",
    "    elif constraint == 'dp':\n",
    "        pass\n",
    "\n",
    "def calc_acc(constraint, confu_mat, num_classes=2, num_groups=2):\n",
    "    group0_tn, group0_fp, group0_fn, group0_tp = confu_mat['0'].ravel()\n",
    "    group1_tn, group1_fp, group1_fn, group1_tp = confu_mat['1'].ravel()\n",
    "    \n",
    "    return (group0_tn + group0_tp + group1_tn + group1_tp) / (confu_mat['0'].ravel().sum() + confu_mat['1'].ravel().sum())\n"
   ]
  },
  {
   "cell_type": "code",
   "execution_count": 15,
   "id": "4a4b9e62-b3ce-48a7-9238-be2d14797014",
   "metadata": {},
   "outputs": [],
   "source": [
    "\n",
    "method = \"reweighting\"\n",
    "dataset = \"compas\"\n",
    "sen_attr_dict = {\n",
    "    \"adult\": \"sex\",\n",
    "    \"compas\": \"sex\",\n",
    "    \"retiring_adult\": \"race\",\n",
    "    \"retiring_adult_coverage\": \"race\"\n",
    "}\n",
    "\n",
    "sen_attr = sen_attr_dict[dataset]\n",
    "constraint = \"eopp\"\n"
   ]
  },
  {
   "cell_type": "code",
   "execution_count": 16,
   "id": "15a46111-5ba0-42c2-81fb-af641cf06615",
   "metadata": {},
   "outputs": [],
   "source": [
    "\n",
    "filename_epi = \"mlp_{}_seed{}_epochs5_bs128_lr{}_decay{:.4f}\"\n",
    "seed_arr = [0, 1, 2, 3, 4]\n",
    "# seed_arr = [0]\n",
    "date = \"20220214\"\n",
    "\n",
    "if method == \"reweighting\":\n",
    "    filename = filename_epi + \"_constraint{}_eta{}_iter{}_test_confu\"\n",
    "#     lr_arr = [0.0003, 0.0005]\n",
    "    lr_arr = [0.0001, 0.0003, 0.0005]\n",
    "    eta_arr = [0.1, 0.2, 0.3, 0.5, 1.0, 2.0, 3.0, 5.0, 10.0, 20.0, 30.0]\n",
    "    decay = 0.0005\n",
    "    iteration = 10\n",
    "    \n",
    "elif method == \"adv_debiasing\":\n",
    "    filename = filename_epi + \"_adv_lamb{}_eta{}_constraint{}_test_confu\"\n",
    "    lr = 0.0005\n",
    "    decay = 0.0005\n",
    "#     lamb_arr = [1, 2, 3, 4, 5, 6, 7, 8, 9, 10]\n",
    "    lamb_arr = [0.001, 0.003, 0.01, 0.03, 0.1, 0.3, 1.0, 3.0, 10.0, 20.0, 30.0, 50.0, 100.0]\n",
    "#     eta_arr = [0.001, 0.003, 0.005, 0.007, 0.01]\n",
    "    eta_arr = [0.001, 0.003, 0.005, 0.01]\n",
    "    \n"
   ]
  },
  {
   "cell_type": "code",
   "execution_count": 17,
   "id": "545c5722-eba2-4ac0-b7a7-3686b239d962",
   "metadata": {},
   "outputs": [
    {
     "name": "stdout",
     "output_type": "stream",
     "text": [
      "[[0.19624784 0.1370869  0.10045583 0.03149031 0.02883552 0.01561643\n",
      "  0.05570422 0.05678048 0.02437851 0.05024269 0.07040476]\n",
      " [0.16221247 0.11024353 0.05857004 0.03117376 0.06155405 0.04803106\n",
      "  0.06780484 0.05494028 0.02738784 0.12421812 0.14551133]\n",
      " [0.17433841 0.09090027 0.05550585 0.0490398  0.05441692 0.06160891\n",
      "  0.06982231 0.04925505 0.12873423 0.13708268 0.23875828]]\n",
      "[[0.66677472 0.66661264 0.66612642 0.66418152 0.66272285 0.66288493\n",
      "  0.66726094 0.66596434 0.66564019 0.66596434 0.66385737]\n",
      " [0.67844408 0.67811994 0.67795786 0.67763371 0.67779579 0.67893031\n",
      "  0.67957861 0.67876823 0.67633712 0.67374392 0.66790924]\n",
      " [0.68119935 0.68330632 0.6828201  0.68038898 0.6821718  0.68265802\n",
      "  0.68411669 0.68265802 0.67844408 0.66758509 0.5713128 ]]\n"
     ]
    }
   ],
   "source": [
    "\n",
    "results_fair = np.zeros((len(seed_arr), len(lr_arr), len(eta_arr)))\n",
    "results_acc = np.zeros((len(seed_arr), len(lr_arr), len(eta_arr)))\n",
    "\n",
    "for seed in seed_arr:\n",
    "    for i, lr in enumerate(lr_arr):\n",
    "        for j, eta in enumerate(eta_arr):\n",
    "            confu_mat = loadmat(\"./results/{}/{}/{}/{}\".format(date, dataset, method, filename.format(sen_attr, seed, lr, decay, constraint, eta, iteration)), appendmat=False)\n",
    "#             print(calc_fairness_metric(constraint, confu_mat))\n",
    "            results_fair[seed, i, j] += calc_fairness_metric(constraint, confu_mat)\n",
    "            results_acc[seed, i, j] += calc_acc(constraint, confu_mat)\n",
    "\n",
    "results_fair = np.mean(results_fair, axis=0)\n",
    "results_acc = np.mean(results_acc, axis=0)\n",
    "\n",
    "\n",
    "print(results_fair)\n",
    "print(results_acc)\n"
   ]
  },
  {
   "cell_type": "code",
   "execution_count": 18,
   "id": "4dcf8439-aa76-4c67-921b-a8c8545507d0",
   "metadata": {},
   "outputs": [
    {
     "name": "stdout",
     "output_type": "stream",
     "text": [
      "(0, 5)\n",
      "0.015616426792723593 0.6628849270664505\n"
     ]
    }
   ],
   "source": [
    "\n",
    "argmin = np.unravel_index(results_fair.argmin(), results_fair.shape)\n",
    "print(argmin)\n",
    "print(results_fair[argmin], results_acc[argmin])\n"
   ]
  },
  {
   "cell_type": "code",
   "execution_count": 19,
   "id": "6f0d5d5a-efba-4067-8c6f-8c832faf845d",
   "metadata": {},
   "outputs": [
    {
     "data": {
      "image/png": "[encoded data removed]",
      "text/plain": [
       "<Figure size 432x288 with 2 Axes>"
      ]
     },
     "metadata": {
      "needs_background": "light"
     },
     "output_type": "display_data"
    }
   ],
   "source": [
    "\n",
    "import matplotlib.pyplot as plt\n",
    "\n",
    "lr_idx = 0\n",
    "\n",
    "x = eta_arr\n",
    "y1 = results_acc[lr_idx, :]\n",
    "y2 = results_fair[lr_idx, :]\n",
    "\n",
    "fig, ax1 = plt.subplots()\n",
    "\n",
    "ax2 = ax1.twinx()\n",
    "ax1.plot(x, y1, 'go-')\n",
    "ax2.plot(x, y2, 'bo-')\n",
    "\n",
    "ax1.set_xlabel('lamb')\n",
    "ax1.set_ylabel('Test Acc', color='g')\n",
    "ax2.set_ylabel('Test Fair', color='b')\n",
    "\n",
    "plt.title(f\"adversary lr: {lr_arr[lr_idx]}\")\n",
    "\n",
    "plt.show()\n",
    "\n",
    "\n"
   ]
  },
  {
   "cell_type": "code",
   "execution_count": null,
   "id": "450181ea-6004-4dcb-9ee8-87249cd2467c",
   "metadata": {},
   "outputs": [],
   "source": []
  },
  {
   "cell_type": "code",
   "execution_count": null,
   "id": "d453c651-eeac-42b4-9bbc-8e96afa22c0b",
   "metadata": {},
   "outputs": [],
   "source": []
  },
  {
   "cell_type": "code",
   "execution_count": null,
   "id": "e8e45fb8-cf3c-4e19-bbea-03c1a8405d48",
   "metadata": {},
   "outputs": [],
   "source": []
  },
  {
   "cell_type": "code",
   "execution_count": null,
   "id": "26d51182-90b6-4ff0-9120-5ba10eb6279c",
   "metadata": {},
   "outputs": [],
   "source": []
  }
 ],
 "metadata": {
  "kernelspec": {
   "display_name": "Python 3",
   "language": "python",
   "name": "python3"
  },
  "language_info": {
   "codemirror_mode": {
    "name": "ipython",
    "version": 3
   },
   "file_extension": ".py",
   "mimetype": "text/x-python",
   "name": "python",
   "nbconvert_exporter": "python",
   "pygments_lexer": "ipython3",
   "version": "3.8.8"
  }
 },
 "nbformat": 4,
 "nbformat_minor": 5
}
