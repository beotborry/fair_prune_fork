{
 "cells": [
  {
   "cell_type": "code",
   "execution_count": 42,
   "id": "56b91917-2a55-4de6-b2bd-325ee1e93af5",
   "metadata": {},
   "outputs": [],
   "source": [
    "from scipy.io import loadmat\n",
    "import numpy as np"
   ]
  },
  {
   "cell_type": "code",
   "execution_count": 43,
   "id": "f6695b72-9523-4bbb-ac7d-1001820f4ec7",
   "metadata": {},
   "outputs": [],
   "source": [
    "def calc_fairness_metric(constraint, confu_mat, num_groups=2, num_classes=2):\n",
    "    if constraint == 'eopp':\n",
    "        '''\n",
    "        Compute EO disparity\n",
    "        '''\n",
    "        group0_tn, group0_fp, group0_fn, group0_tp = confu_mat['0'].ravel()\n",
    "        group1_tn, group1_fp, group1_fn, group1_tp = confu_mat['1'].ravel()\n",
    "\n",
    "        pivot = (group0_tp + group1_tp) / (group0_fn + group0_tp + group1_fn + group1_tp)\n",
    "        group0_tpr = group0_tp / (group0_fn + group0_tp)\n",
    "        group1_tpr = group1_tp / (group1_fn + group1_tp)\n",
    "\n",
    "        return max(abs(group0_tpr - pivot), abs(group1_tpr - pivot)) # from fairbatch paper\n",
    "        #return abs(group0_tp / (group0_fn + group0_tp) - group1_tp / (group1_fn + group1_tp))\n",
    "\n",
    "    elif constraint == 'eo':\n",
    "        '''\n",
    "        Compute ED disparity \n",
    "        '''\n",
    "\n",
    "        group0_tn, group0_fp, group0_fn, group0_tp = confu_mat['0'].ravel()\n",
    "        group1_tn, group1_fp, group1_fn, group1_tp = confu_mat['1'].ravel()\n",
    "        \n",
    "        pivot_1 = (group0_tp + group1_tp) / (group0_fn + group0_tp + group1_fn + group1_tp)\n",
    "        group0_tpr = group0_tp / (group0_fn + group0_tp)\n",
    "        group1_tpr = group1_tp / (group1_fn + group1_tp)\n",
    "\n",
    "        EO_Y_1 = max(abs(group0_tpr - pivot_1), abs(group1_tpr - pivot_1))\n",
    "\n",
    "        pivot_0 = (group0_fp + group1_fp) / (group0_tn + group0_fp + group1_tn + group1_fp)\n",
    "        group0_fpr = (group0_fp) / (group0_tn + group0_fp)\n",
    "        group1_fpr = (group1_fp) / (group1_tn + group1_fp)\n",
    "\n",
    "        EO_Y_0 = max(abs(group0_fpr - pivot_0), abs(group1_fpr - pivot_0))\n",
    "\n",
    "        return max(EO_Y_0, EO_Y_1)\n",
    "\n",
    "    elif constraint == 'dp':\n",
    "        pass\n",
    "\n",
    "def calc_acc(constraint, confu_mat, num_classes=2, num_groups=2):\n",
    "    group0_tn, group0_fp, group0_fn, group0_tp = confu_mat['0'].ravel()\n",
    "    group1_tn, group1_fp, group1_fn, group1_tp = confu_mat['1'].ravel()\n",
    "    \n",
    "    return (group0_tn + group0_tp + group1_tn + group1_tp) / (confu_mat['0'].ravel().sum() + confu_mat['1'].ravel().sum())\n"
   ]
  },
  {
   "cell_type": "code",
   "execution_count": 37,
   "id": "4a4b9e62-b3ce-48a7-9238-be2d14797014",
   "metadata": {},
   "outputs": [],
   "source": [
    "\n",
    "method = \"reweighting\"\n",
    "dataset = \"adult\"\n",
    "sen_attr_dict = {\n",
    "    \"adult\": \"sex\",\n",
    "    \"compas\": \"sex\",\n",
    "    \"retiring_adult\": \"race\",\n",
    "    \"retiring_adult_coverage\": \"race\"\n",
    "}\n",
    "\n",
    "sen_attr = sen_attr_dict[dataset]\n",
    "constraint = \"eo\"\n"
   ]
  },
  {
   "cell_type": "code",
   "execution_count": 44,
   "id": "15a46111-5ba0-42c2-81fb-af641cf06615",
   "metadata": {},
   "outputs": [],
   "source": [
    "\n",
    "filename_epi = \"mlp_{}_seed{}_epochs5_bs128_lr{}_decay{:.4f}\"\n",
    "seed_arr = [0]\n",
    "date = \"20220214\"\n",
    "\n",
    "if method == \"reweighting\":\n",
    "    filename = filename_epi + \"_constraint{}_eta{}_iter{}_test_confu\"\n",
    "#     lr_arr = [0.0003, 0.0005]\n",
    "    lr_arr = [0.0001, 0.0003, 0.0005]\n",
    "    eta_arr = [0.1, 0.2, 0.3, 0.5, 1.0, 2.0, 3.0, 5.0, 10.0, 20.0, 30.0]\n",
    "    decay = 0.0005\n",
    "    iteration = 10\n",
    "    \n",
    "elif method == \"adv_debiasing\":\n",
    "    filename = filename_epi + \"_adv_lamb{}_eta{}_constraint{}_test_confu\"\n",
    "    lr = 0.0005\n",
    "    decay = 0.0005\n",
    "#     lamb_arr = [1, 2, 3, 4, 5, 6, 7, 8, 9, 10]\n",
    "    lamb_arr = [0.001, 0.003, 0.01, 0.03, 0.1, 0.3, 1.0, 3.0, 10.0, 20.0, 30.0, 50.0, 100.0]\n",
    "#     eta_arr = [0.001, 0.003, 0.005, 0.007, 0.01]\n",
    "    eta_arr = [0.001, 0.003, 0.005, 0.01]\n",
    "    \n"
   ]
  },
  {
   "cell_type": "code",
   "execution_count": 45,
   "id": "545c5722-eba2-4ac0-b7a7-3686b239d962",
   "metadata": {},
   "outputs": [
    {
     "name": "stdout",
     "output_type": "stream",
     "text": [
      "[[0.01784794 0.01784794 0.01784794 0.01784794 0.01784794 0.01784794\n",
      "  0.01784794 0.01784794 0.01784794 0.01784794 0.01784794]\n",
      " [0.05500794 0.05500794 0.05500794 0.05500794 0.05500794 0.05500794\n",
      "  0.05500794 0.05500794 0.05500794 0.05500794 0.05500794]\n",
      " [0.11845271 0.11845271 0.11845271 0.11845271 0.11845271 0.11845271\n",
      "  0.11845271 0.11845271 0.11845271 0.11845271 0.11845271]]\n",
      "[[0.55105348 0.55105348 0.55105348 0.55105348 0.55105348 0.55105348\n",
      "  0.55105348 0.55105348 0.55105348 0.55105348 0.55105348]\n",
      " [0.57617504 0.57617504 0.57617504 0.57617504 0.57617504 0.57617504\n",
      "  0.57617504 0.57617504 0.57617504 0.57617504 0.57617504]\n",
      " [0.61264182 0.61264182 0.61264182 0.61264182 0.61264182 0.61264182\n",
      "  0.61264182 0.61264182 0.61264182 0.61264182 0.61264182]]\n"
     ]
    }
   ],
   "source": [
    "\n",
    "results_fair = np.zeros((len(seed_arr), len(lr_arr), len(eta_arr)))\n",
    "results_acc = np.zeros((len(seed_arr), len(lr_arr), len(eta_arr)))\n",
    "\n",
    "for seed in seed_arr:\n",
    "    for i, lr in enumerate(lr_arr):\n",
    "        for j, eta in enumerate(eta_arr):\n",
    "            confu_mat = loadmat(\"./results/{}/{}/{}/{}\".format(date, dataset, method, filename.format(sen_attr, seed, lr, decay, constraint, eta, iteration)), appendmat=False)\n",
    "#             print(calc_fairness_metric(constraint, confu_mat))\n",
    "            results_fair[seed, i, j] += calc_fairness_metric(constraint, confu_mat)\n",
    "            results_acc[seed, i, j] += calc_acc(constraint, confu_mat)\n",
    "\n",
    "results_fair = np.mean(results_fair, axis=0)\n",
    "results_acc = np.mean(results_acc, axis=0)\n",
    "\n",
    "\n",
    "print(results_fair)\n",
    "print(results_acc)\n"
   ]
  },
  {
   "cell_type": "code",
   "execution_count": null,
   "id": "6f0d5d5a-efba-4067-8c6f-8c832faf845d",
   "metadata": {},
   "outputs": [],
   "source": []
  },
  {
   "cell_type": "code",
   "execution_count": null,
   "id": "450181ea-6004-4dcb-9ee8-87249cd2467c",
   "metadata": {},
   "outputs": [],
   "source": []
  }
 ],
 "metadata": {
  "kernelspec": {
   "display_name": "Python 3",
   "language": "python",
   "name": "python3"
  },
  "language_info": {
   "codemirror_mode": {
    "name": "ipython",
    "version": 3
   },
   "file_extension": ".py",
   "mimetype": "text/x-python",
   "name": "python",
   "nbconvert_exporter": "python",
   "pygments_lexer": "ipython3",
   "version": "3.8.8"
  }
 },
 "nbformat": 4,
 "nbformat_minor": 5
}
