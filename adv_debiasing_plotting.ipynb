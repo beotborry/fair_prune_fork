{
 "cells": [
  {
   "cell_type": "code",
   "execution_count": 20,
   "id": "327e3b2c-0cb1-4d75-97fa-b05038cc15b5",
   "metadata": {},
   "outputs": [],
   "source": [
    "from scipy.io import loadmat\n",
    "import numpy as np"
   ]
  },
  {
   "cell_type": "code",
   "execution_count": 21,
   "id": "9b093f8f-3253-4929-b737-8456eae37af1",
   "metadata": {},
   "outputs": [],
   "source": [
    "def calc_fairness_metric(constraint, confu_mat, num_groups=2, num_classes=2):\n",
    "    if constraint == 'eopp':\n",
    "        '''\n",
    "        Compute EO disparity\n",
    "        '''\n",
    "        group0_tn, group0_fp, group0_fn, group0_tp = confu_mat['0'].ravel()\n",
    "        group1_tn, group1_fp, group1_fn, group1_tp = confu_mat['1'].ravel()\n",
    "\n",
    "        pivot = (group0_tp + group1_tp) / (group0_fn + group0_tp + group1_fn + group1_tp)\n",
    "        group0_tpr = group0_tp / (group0_fn + group0_tp)\n",
    "        group1_tpr = group1_tp / (group1_fn + group1_tp)\n",
    "\n",
    "        return max(abs(group0_tpr - pivot), abs(group1_tpr - pivot)) # from fairbatch paper\n",
    "        #return abs(group0_tp / (group0_fn + group0_tp) - group1_tp / (group1_fn + group1_tp))\n",
    "\n",
    "    elif constraint == 'eo':\n",
    "        '''\n",
    "        Compute ED disparity \n",
    "        '''\n",
    "\n",
    "        group0_tn, group0_fp, group0_fn, group0_tp = confu_mat['0'].ravel()\n",
    "        group1_tn, group1_fp, group1_fn, group1_tp = confu_mat['1'].ravel()\n",
    "        \n",
    "        pivot_1 = (group0_tp + group1_tp) / (group0_fn + group0_tp + group1_fn + group1_tp)\n",
    "        group0_tpr = group0_tp / (group0_fn + group0_tp)\n",
    "        group1_tpr = group1_tp / (group1_fn + group1_tp)\n",
    "\n",
    "        EO_Y_1 = max(abs(group0_tpr - pivot_1), abs(group1_tpr - pivot_1))\n",
    "\n",
    "        pivot_0 = (group0_fp + group1_fp) / (group0_tn + group0_fp + group1_tn + group1_fp)\n",
    "        group0_fpr = (group0_fp) / (group0_tn + group0_fp)\n",
    "        group1_fpr = (group1_fp) / (group1_tn + group1_fp)\n",
    "\n",
    "        EO_Y_0 = max(abs(group0_fpr - pivot_0), abs(group1_fpr - pivot_0))\n",
    "\n",
    "        return max(EO_Y_0, EO_Y_1)\n",
    "\n",
    "    elif constraint == 'dp':\n",
    "        pass\n",
    "\n",
    "def calc_acc(constraint, confu_mat, num_classes=2, num_groups=2):\n",
    "    group0_tn, group0_fp, group0_fn, group0_tp = confu_mat['0'].ravel()\n",
    "    group1_tn, group1_fp, group1_fn, group1_tp = confu_mat['1'].ravel()\n",
    "    \n",
    "    return (group0_tn + group0_tp + group1_tn + group1_tp) / (confu_mat['0'].ravel().sum() + confu_mat['1'].ravel().sum())\n"
   ]
  },
  {
   "cell_type": "code",
   "execution_count": 22,
   "id": "a9dfc769-3c69-4e24-99e4-2ab17e2d5118",
   "metadata": {},
   "outputs": [],
   "source": [
    "\n",
    "method = \"adv_debiasing\"\n",
    "dataset = \"compas\"\n",
    "sen_attr_dict = {\n",
    "    \"adult\": \"sex\",\n",
    "    \"compas\": \"sex\",\n",
    "    \"retiring_adult\": \"race\",\n",
    "    \"retiring_adult_coverage\": \"race\"\n",
    "}\n",
    "\n",
    "sen_attr = sen_attr_dict[dataset]\n",
    "constraint = \"eopp\"\n"
   ]
  },
  {
   "cell_type": "code",
   "execution_count": 23,
   "id": "92ca076e-af3b-4a60-8d31-1720fa7d8611",
   "metadata": {},
   "outputs": [],
   "source": [
    "\n",
    "filename_epi = \"mlp_{}_seed{}_epochs50_bs128_lr{:.4f}_decay{:.4f}\"\n",
    "seed_arr = [0, 1, 2, 3, 4]\n",
    "date = \"20220214\"\n",
    "\n",
    "if method == \"reweighting\":\n",
    "    pass\n",
    "elif method == \"adv_debiasing\":\n",
    "    filename = filename_epi + \"_adv_lamb{}_eta{}_constraint{}_test_confu\"\n",
    "    lr = 0.0005\n",
    "    decay = 0.0005\n",
    "#     lamb_arr = [1, 2, 3, 4, 5, 6, 7, 8, 9, 10]\n",
    "    lamb_arr = [0.001, 0.003, 0.1, 0.03, 0.1, 0.3, 1.0, 3.0, 10.0, 20.0, 30.0, 50.0, 100.0]\n",
    "#     lamb_arr = [0.001, 0.003, 0.01, 0.03, 0.1, 0.3, 1.0, 3.0, 10.0, 20.0, 30.0, 50.0, 100.0]\n",
    "#     eta_arr = [0.001, 0.003, 0.005, 0.007, 0.01]\n",
    "    eta_arr = [0.001, 0.003, 0.005, 0.01]\n",
    "    \n"
   ]
  },
  {
   "cell_type": "code",
   "execution_count": 24,
   "id": "7c8d5c4f-06f1-4c02-95da-657bb04ca67c",
   "metadata": {},
   "outputs": [
    {
     "name": "stdout",
     "output_type": "stream",
     "text": [
      "[[0.24718271 0.24790867 0.18505044 0.21818681 0.18505044 0.11688262\n",
      "  0.09152914 0.06687629 0.09659815 0.08184274 0.0433799  0.06651332\n",
      "  0.00947115]\n",
      " [0.24718271 0.24681974 0.18592411 0.21280969 0.18592411 0.11884523\n",
      "  0.09479593 0.06086608 0.0464652  0.09801207 0.098814   0.09644199\n",
      "  0.06967459]\n",
      " [0.24522011 0.24645676 0.17931034 0.21404634 0.17931034 0.13279872\n",
      "  0.08999705 0.0666737  0.08727894 0.07382349 0.04153125 0.06950998\n",
      "  0.08213396]\n",
      " [0.24594606 0.24681974 0.18236188 0.21332039 0.18236188 0.13330942\n",
      "  0.09573714 0.09108597 0.1127295  0.05297345 0.04985861 0.03220783\n",
      "  0.04585321]] [[0.67115073 0.67163695 0.67017828 0.67115073 0.67017828 0.67050243\n",
      "  0.67050243 0.66272285 0.63273906 0.59724473 0.5547812  0.53857374\n",
      "  0.53743922]\n",
      " [0.67147488 0.67147488 0.67115073 0.67115073 0.67115073 0.67082658\n",
      "  0.67001621 0.65656402 0.62414911 0.58865478 0.56012966 0.56693679\n",
      "  0.53533225]\n",
      " [0.67179903 0.67098865 0.67082658 0.67098865 0.67082658 0.67163695\n",
      "  0.66920583 0.65769854 0.6273906  0.59011345 0.58249595 0.56547812\n",
      "  0.54910859]\n",
      " [0.67212318 0.6713128  0.67212318 0.67115073 0.67212318 0.6713128\n",
      "  0.66871961 0.65867099 0.61345219 0.59367909 0.57844408 0.56547812\n",
      "  0.54165316]]\n"
     ]
    }
   ],
   "source": [
    "\n",
    "results_fair = np.zeros((len(seed_arr), len(eta_arr), len(lamb_arr)))\n",
    "results_acc = np.zeros((len(seed_arr), len(eta_arr), len(lamb_arr)))\n",
    "\n",
    "for seed in seed_arr:\n",
    "    for i, eta in enumerate(eta_arr):\n",
    "        for j, lamb in enumerate(lamb_arr):\n",
    "            confu_mat = loadmat(\"./results/{}/{}/{}/{}\".format(date, dataset, method, filename.format(sen_attr, seed, lr, decay, lamb, eta, constraint)), appendmat=False)\n",
    "#             print(calc_fairness_metric(constraint, confu_mat))\n",
    "            results_fair[seed, i, j] += calc_fairness_metric(constraint, confu_mat)\n",
    "            results_acc[seed, i, j] += calc_acc(constraint, confu_mat)\n",
    "\n",
    "results_fair = np.mean(results_fair, axis=0)\n",
    "results_acc = np.mean(results_acc, axis=0)\n",
    "\n",
    "\n",
    "print(results_fair, results_acc)\n"
   ]
  },
  {
   "cell_type": "code",
   "execution_count": 25,
   "id": "bf6bbb87-f12e-4e64-8f66-44256491a965",
   "metadata": {},
   "outputs": [
    {
     "name": "stdout",
     "output_type": "stream",
     "text": [
      "(0, 12)\n",
      "0.009471151816992365 0.5374392220421393\n"
     ]
    }
   ],
   "source": [
    "\n",
    "argmin = np.unravel_index(results_fair.argmin(), results_fair.shape)\n",
    "print(argmin)\n",
    "print(results_fair[argmin], results_acc[argmin])\n"
   ]
  },
  {
   "cell_type": "code",
   "execution_count": 36,
   "id": "70d9ee50-ecfc-478d-9b02-541d0d4954c7",
   "metadata": {},
   "outputs": [
    {
     "name": "stdout",
     "output_type": "stream",
     "text": [
      "[0.67147488 0.67147488 0.67115073 0.67115073 0.67115073 0.67082658\n",
      " 0.67001621 0.65656402 0.62414911 0.58865478 0.56012966 0.56693679\n",
      " 0.53533225] [0.24718271 0.24681974 0.18592411 0.21280969 0.18592411 0.11884523\n",
      " 0.09479593 0.06086608 0.0464652  0.09801207 0.098814   0.09644199\n",
      " 0.06967459]\n"
     ]
    },
    {
     "data": {
      "image/png": "[encoded data removed]",
      "text/plain": [
       "<Figure size 432x288 with 2 Axes>"
      ]
     },
     "metadata": {
      "needs_background": "light"
     },
     "output_type": "display_data"
    }
   ],
   "source": [
    "\n",
    "import matplotlib.pyplot as plt\n",
    "\n",
    "lr_idx = 1\n",
    "\n",
    "x = lamb_arr\n",
    "y1 = results_acc[lr_idx, :]\n",
    "y2 = results_fair[lr_idx, :]\n",
    "\n",
    "print(y1, y2)\n",
    "\n",
    "fig, ax1 = plt.subplots()\n",
    "\n",
    "ax2 = ax1.twinx()\n",
    "ax1.plot(x, y1, 'go-')\n",
    "ax2.plot(x, y2, 'bo-')\n",
    "\n",
    "ax1.set_xlabel('lamb')\n",
    "ax1.set_ylabel('Test Acc', color='g')\n",
    "ax2.set_ylabel('Test Fair', color='b')\n",
    "\n",
    "plt.title(f\"adversary lr: {eta_arr[lr_idx]}\")\n",
    "\n",
    "plt.show()\n",
    "\n",
    "\n"
   ]
  },
  {
   "cell_type": "code",
   "execution_count": null,
   "id": "17c07540-1030-430e-a6fd-5f3a6f228fa7",
   "metadata": {},
   "outputs": [],
   "source": []
  },
  {
   "cell_type": "code",
   "execution_count": null,
   "id": "426713cc-6814-4af0-bda6-098e48569f9e",
   "metadata": {},
   "outputs": [],
   "source": []
  },
  {
   "cell_type": "code",
   "execution_count": null,
   "id": "a2687cc0-b9cb-4470-bc8e-f157654c6ea1",
   "metadata": {},
   "outputs": [],
   "source": []
  },
  {
   "cell_type": "code",
   "execution_count": null,
   "id": "2a164c7c-f573-4654-859b-4a6c03814b08",
   "metadata": {},
   "outputs": [],
   "source": []
  },
  {
   "cell_type": "code",
   "execution_count": null,
   "id": "79aa4966-2432-43b1-8c98-d909d810413e",
   "metadata": {},
   "outputs": [],
   "source": []
  }
 ],
 "metadata": {
  "kernelspec": {
   "display_name": "Python 3",
   "language": "python",
   "name": "python3"
  },
  "language_info": {
   "codemirror_mode": {
    "name": "ipython",
    "version": 3
   },
   "file_extension": ".py",
   "mimetype": "text/x-python",
   "name": "python",
   "nbconvert_exporter": "python",
   "pygments_lexer": "ipython3",
   "version": "3.8.8"
  }
 },
 "nbformat": 4,
 "nbformat_minor": 5
}
