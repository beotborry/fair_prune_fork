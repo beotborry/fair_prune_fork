{
 "cells": [
  {
   "cell_type": "code",
   "execution_count": 1,
   "id": "327e3b2c-0cb1-4d75-97fa-b05038cc15b5",
   "metadata": {},
   "outputs": [],
   "source": [
    "from scipy.io import loadmat\n",
    "import numpy as np"
   ]
  },
  {
   "cell_type": "code",
   "execution_count": 2,
   "id": "9b093f8f-3253-4929-b737-8456eae37af1",
   "metadata": {},
   "outputs": [],
   "source": [
    "def calc_fairness_metric(constraint, confu_mat, num_groups=2, num_classes=2):\n",
    "    if constraint == 'eopp':\n",
    "        '''\n",
    "        Compute EO disparity\n",
    "        '''\n",
    "        group0_tn, group0_fp, group0_fn, group0_tp = confu_mat['0'].ravel()\n",
    "        group1_tn, group1_fp, group1_fn, group1_tp = confu_mat['1'].ravel()\n",
    "\n",
    "        pivot = (group0_tp + group1_tp) / (group0_fn + group0_tp + group1_fn + group1_tp)\n",
    "        group0_tpr = group0_tp / (group0_fn + group0_tp)\n",
    "        group1_tpr = group1_tp / (group1_fn + group1_tp)\n",
    "\n",
    "        return max(abs(group0_tpr - pivot), abs(group1_tpr - pivot)) # from fairbatch paper\n",
    "        #return abs(group0_tp / (group0_fn + group0_tp) - group1_tp / (group1_fn + group1_tp))\n",
    "\n",
    "    elif constraint == 'eo':\n",
    "        '''\n",
    "        Compute ED disparity \n",
    "        '''\n",
    "\n",
    "        group0_tn, group0_fp, group0_fn, group0_tp = confu_mat['0'].ravel()\n",
    "        group1_tn, group1_fp, group1_fn, group1_tp = confu_mat['1'].ravel()\n",
    "        \n",
    "        group0_tpr = group0_tp / (group0_fn + group0_tp)\n",
    "        group1_tpr = group1_tp / (group1_fn + group1_tp)\n",
    "\n",
    "        group0_tnr = group0_tn / (group0_tn + group0_fp)\n",
    "        group1_tnr = group1_tn / (group1_tn + group1_fp)\n",
    "\n",
    "        return (abs(group0_tpr - group1_tpr) + abs(group0_tnr - group1_tnr)) / 2\n",
    "  \n",
    "        \n",
    "#         pivot_1 = (group0_tp + group1_tp) / (group0_fn + group0_tp + group1_fn + group1_tp)\n",
    "#         group0_tpr = group0_tp / (group0_fn + group0_tp)\n",
    "#         group1_tpr = group1_tp / (group1_fn + group1_tp)\n",
    "\n",
    "#         EO_Y_1 = max(abs(group0_tpr - pivot_1), abs(group1_tpr - pivot_1))\n",
    "\n",
    "#         pivot_0 = (group0_fp + group1_fp) / (group0_tn + group0_fp + group1_tn + group1_fp)\n",
    "#         group0_fpr = (group0_fp) / (group0_tn + group0_fp)\n",
    "#         group1_fpr = (group1_fp) / (group1_tn + group1_fp)\n",
    "\n",
    "#         EO_Y_0 = max(abs(group0_fpr - pivot_0), abs(group1_fpr - pivot_0))\n",
    "\n",
    "#         return max(EO_Y_0, EO_Y_1)\n",
    "\n",
    "    elif constraint == 'dp':\n",
    "        pass\n",
    "\n",
    "def calc_acc(constraint, confu_mat, num_classes=2, num_groups=2):\n",
    "    group0_tn, group0_fp, group0_fn, group0_tp = confu_mat['0'].ravel()\n",
    "    group1_tn, group1_fp, group1_fn, group1_tp = confu_mat['1'].ravel()\n",
    "    \n",
    "    return (group0_tn + group0_tp + group1_tn + group1_tp) / (confu_mat['0'].ravel().sum() + confu_mat['1'].ravel().sum())\n"
   ]
  },
  {
   "cell_type": "code",
   "execution_count": 9,
   "id": "a9dfc769-3c69-4e24-99e4-2ab17e2d5118",
   "metadata": {},
   "outputs": [],
   "source": [
    "\n",
    "method = \"adv_debiasing\"\n",
    "dataset = \"adult\"\n",
    "sen_attr_dict = {\n",
    "    \"adult\": \"sex\",\n",
    "    \"compas\": \"sex\",\n",
    "    \"retiring_adult\": \"race\",\n",
    "    \"retiring_adult_coverage\": \"race\"\n",
    "}\n",
    "\n",
    "sen_attr = sen_attr_dict[dataset]\n",
    "constraint = \"eopp\"\n",
    "influence_removing = True\n"
   ]
  },
  {
   "cell_type": "code",
   "execution_count": 18,
   "id": "92ca076e-af3b-4a60-8d31-1720fa7d8611",
   "metadata": {},
   "outputs": [],
   "source": [
    "\n",
    "filename_epi = \"mlp_{}_seed{}_epochs50_bs128_lr{:.4f}_decay{:.4f}\"\n",
    "seed_arr = [0, 1, 2, 3, 4]\n",
    "# date = \"20220214\"\n",
    "date = \"20220401\"\n",
    "\n",
    "if method == \"reweighting\":\n",
    "    pass\n",
    "elif method == \"adv_debiasing\":\n",
    "    filename = filename_epi + \"_adv_lamb{}_eta{}_constraint{}_test_confu\"\n",
    "    lr = 0.0005\n",
    "    decay = 0.0005\n",
    "    \n",
    "    if dataset == \"adult\":\n",
    "        lamb_arr = [0.001, 0.003, 0.1, 0.03, 0.1, 0.3, 1.0, 3.0, 10.0, 20.0, 30.0, 50.0, 100.0]\n",
    "        eta_arr = [0.001, 0.003, 0.005, 0.01]\n",
    "        \n",
    "    if dataset == \"adult\":\n",
    "        k_arr = [0.1, 0.2, 0.3, 0.4, 0.5, 0.6, 0.7, 0.8, 0.9, 1, 2, 3, 4, 5]\n",
    "    elif dataset == \"compas\":\n",
    "        k_arr = [1, 2, 3, 4, 5, 6, 7, 8, 9, 10, 11, 12, 13, 14, 15, 16, 17, 18, 19, 20]\n",
    "        \n",
    "# #     lamb_arr = [1, 2, 3, 4, 5, 6, 7, 8, 9, 10]\n",
    "#     lamb_arr = [0.001, 0.003, 0.1, 0.03, 0.1, 0.3, 1.0, 3.0, 10.0, 20.0, 30.0, 50.0, 100.0]\n",
    "# #     lamb_arr = [0.001, 0.003, 0.01, 0.03, 0.1, 0.3, 1.0, 3.0, 10.0, 20.0, 30.0, 50.0, 100.0]\n",
    "# #     eta_arr = [0.001, 0.003, 0.005, 0.007, 0.01]\n",
    "#     eta_arr = [0.001, 0.003, 0.005, 0.01]\n",
    "    \n"
   ]
  },
  {
   "cell_type": "code",
   "execution_count": 17,
   "id": "7c8d5c4f-06f1-4c02-95da-657bb04ca67c",
   "metadata": {},
   "outputs": [
    {
     "ename": "NameError",
     "evalue": "name 'iteration' is not defined",
     "output_type": "error",
     "traceback": [
      "\u001b[0;31m---------------------------------------------------------------------------\u001b[0m",
      "\u001b[0;31mNameError\u001b[0m                                 Traceback (most recent call last)",
      "\u001b[0;32m<ipython-input-17-67572977a4e0>\u001b[0m in \u001b[0;36m<module>\u001b[0;34m\u001b[0m\n\u001b[1;32m      8\u001b[0m             \u001b[0;32mfor\u001b[0m \u001b[0meta_idx\u001b[0m\u001b[0;34m,\u001b[0m \u001b[0meta\u001b[0m \u001b[0;32min\u001b[0m \u001b[0menumerate\u001b[0m\u001b[0;34m(\u001b[0m\u001b[0meta_arr\u001b[0m\u001b[0;34m)\u001b[0m\u001b[0;34m:\u001b[0m\u001b[0;34m\u001b[0m\u001b[0;34m\u001b[0m\u001b[0m\n\u001b[1;32m      9\u001b[0m                 \u001b[0;32mfor\u001b[0m \u001b[0mk_idx\u001b[0m\u001b[0;34m,\u001b[0m \u001b[0mk\u001b[0m \u001b[0;32min\u001b[0m \u001b[0menumerate\u001b[0m\u001b[0;34m(\u001b[0m\u001b[0mk_arr\u001b[0m\u001b[0;34m)\u001b[0m\u001b[0;34m:\u001b[0m\u001b[0;34m\u001b[0m\u001b[0;34m\u001b[0m\u001b[0m\n\u001b[0;32m---> 10\u001b[0;31m                     \u001b[0mconfu_mat\u001b[0m \u001b[0;34m=\u001b[0m  \u001b[0mloadmat\u001b[0m\u001b[0;34m(\u001b[0m\u001b[0;34m\"./results/{}/{}/{}/{}\"\u001b[0m\u001b[0;34m.\u001b[0m\u001b[0mformat\u001b[0m\u001b[0;34m(\u001b[0m\u001b[0mdate\u001b[0m\u001b[0;34m,\u001b[0m \u001b[0mdataset\u001b[0m\u001b[0;34m,\u001b[0m \u001b[0mmethod\u001b[0m\u001b[0;34m,\u001b[0m \u001b[0mfilename\u001b[0m\u001b[0;34m.\u001b[0m\u001b[0mformat\u001b[0m\u001b[0;34m(\u001b[0m\u001b[0msen_attr\u001b[0m\u001b[0;34m,\u001b[0m \u001b[0mseed\u001b[0m\u001b[0;34m,\u001b[0m \u001b[0mlamb\u001b[0m\u001b[0;34m,\u001b[0m \u001b[0mdecay\u001b[0m\u001b[0;34m,\u001b[0m \u001b[0mconstraint\u001b[0m\u001b[0;34m,\u001b[0m \u001b[0meta\u001b[0m\u001b[0;34m,\u001b[0m \u001b[0miteration\u001b[0m\u001b[0;34m,\u001b[0m \u001b[0mk\u001b[0m\u001b[0;34m)\u001b[0m\u001b[0;34m)\u001b[0m\u001b[0;34m,\u001b[0m \u001b[0mappendmat\u001b[0m\u001b[0;34m=\u001b[0m\u001b[0;32mFalse\u001b[0m\u001b[0;34m)\u001b[0m\u001b[0;34m\u001b[0m\u001b[0;34m\u001b[0m\u001b[0m\n\u001b[0m\u001b[1;32m     11\u001b[0m                     \u001b[0mresults_fair\u001b[0m\u001b[0;34m[\u001b[0m\u001b[0mseed\u001b[0m\u001b[0;34m,\u001b[0m \u001b[0mlamb_idx\u001b[0m\u001b[0;34m,\u001b[0m \u001b[0meta_idx\u001b[0m\u001b[0;34m,\u001b[0m \u001b[0mk_idx\u001b[0m\u001b[0;34m]\u001b[0m \u001b[0;34m+=\u001b[0m \u001b[0mcalc_fairness_metric\u001b[0m\u001b[0;34m(\u001b[0m\u001b[0mconstraint\u001b[0m\u001b[0;34m,\u001b[0m \u001b[0mconfu_mat\u001b[0m\u001b[0;34m)\u001b[0m\u001b[0;34m\u001b[0m\u001b[0;34m\u001b[0m\u001b[0m\n\u001b[1;32m     12\u001b[0m                     \u001b[0mresults_acc\u001b[0m\u001b[0;34m[\u001b[0m\u001b[0mseed\u001b[0m\u001b[0;34m,\u001b[0m \u001b[0mlamb_idx\u001b[0m\u001b[0;34m,\u001b[0m \u001b[0meta_idx\u001b[0m\u001b[0;34m,\u001b[0m \u001b[0mk_idx\u001b[0m\u001b[0;34m]\u001b[0m \u001b[0;34m+=\u001b[0m \u001b[0mcalc_acc\u001b[0m\u001b[0;34m(\u001b[0m\u001b[0mconstraint\u001b[0m\u001b[0;34m,\u001b[0m \u001b[0mconfu_mat\u001b[0m\u001b[0;34m)\u001b[0m\u001b[0;34m\u001b[0m\u001b[0;34m\u001b[0m\u001b[0m\n",
      "\u001b[0;31mNameError\u001b[0m: name 'iteration' is not defined"
     ]
    }
   ],
   "source": [
    "if influence_removing:\n",
    "    results_fair = np.zeros((len(seed_arr), len(lamb_arr), len(eta_arr), len(k_arr)))\n",
    "    results_acc = np.zeros((len(seed_arr), len(lamb_arr), len(eta_arr), len(k_arr)))\n",
    "    results_balance_acc = np.zeros((len(seed_arr), len(lamb_arr), len(eta_arr), len(k_arr)))\n",
    "    \n",
    "    for seed in seed_arr:\n",
    "        for lamb_idx, lamb in enumerate(lamb_arr):\n",
    "            for eta_idx, eta in enumerate(eta_arr):\n",
    "                for k_idx, k in enumerate(k_arr):\n",
    "                    confu_mat =  loadmat(\"./results/{}/{}/{}/{}\".format(date, dataset, method, filename.format(sen_attr, seed, lr, decay, lamb, eta, constraint,)), appendmat=False)\n",
    "                    results_fair[seed, lamb_idx, eta_idx, k_idx] += calc_fairness_metric(constraint, confu_mat)\n",
    "                    results_acc[seed, lamb_idx, eta_idx, k_idx] += calc_acc(constraint, confu_mat)\n",
    "                    results_balance_acc[seed, lamb_idx, eta_idx, k_idx] += calc_balance_acc(confu_mat)\n",
    "    results_fair = np.mean(results_fair, axis=0)\n",
    "    results_acc = np.mean(results_acc, axis=0)\n",
    "    results_balance_acc = np.mean(results_balance_acc, axis=0)\n",
    "\n",
    "\n",
    "# results_fair = np.zeros((len(seed_arr), len(eta_arr), len(lamb_arr)))\n",
    "# results_acc = np.zeros((len(seed_arr), len(eta_arr), len(lamb_arr)))\n",
    "\n",
    "# for seed in seed_arr:\n",
    "#     for i, eta in enumerate(eta_arr):\n",
    "#         for j, lamb in enumerate(lamb_arr):\n",
    "#             confu_mat = loadmat(\"./results/{}/{}/{}/{}\".format(date, dataset, method, filename.format(seed, lr, decay, lamb, eta, constraint)), appendmat=False)\n",
    "# #             print(calc_fairness_metric(constraint, confu_mat))\n",
    "#             results_fair[seed, i, j] += calc_fairness_metric(constraint, confu_mat)\n",
    "#             results_acc[seed, i, j] += calc_acc(constraint, confu_mat)\n",
    "\n",
    "# results_fair = np.mean(results_fair, axis=0)\n",
    "# results_acc = np.mean(results_acc, axis=0)\n",
    "\n",
    "\n",
    "# print(results_fair, results_acc)\n"
   ]
  },
  {
   "cell_type": "code",
   "execution_count": 42,
   "id": "bf6bbb87-f12e-4e64-8f66-44256491a965",
   "metadata": {},
   "outputs": [
    {
     "name": "stdout",
     "output_type": "stream",
     "text": [
      "(1, 7)\n",
      "0.013025965173070572 0.7856090475202324\n"
     ]
    }
   ],
   "source": [
    "\n",
    "argmin = np.unravel_index(results_fair.argmin(), results_fair.shape)\n",
    "print(argmin)\n",
    "print(results_fair[argmin], results_acc[argmin])\n"
   ]
  },
  {
   "cell_type": "code",
   "execution_count": 43,
   "id": "70d9ee50-ecfc-478d-9b02-541d0d4954c7",
   "metadata": {},
   "outputs": [
    {
     "name": "stdout",
     "output_type": "stream",
     "text": [
      "[0.78858598 0.78818738 0.78813291 0.78866639 0.78813291 0.78727606\n",
      " 0.76279311 0.78560905 0.76543284 0.75838694 0.7556841  0.73286903\n",
      " 0.7687634 ] [0.14763757 0.14608508 0.0954424  0.12434614 0.0954424  0.05171108\n",
      " 0.05859339 0.01302597 0.03200353 0.05292755 0.07207512 0.08540623\n",
      " 0.06314094]\n"
     ]
    },
    {
     "data": {
      "image/png": "[encoded data removed]",
      "text/plain": [
       "<Figure size 432x288 with 2 Axes>"
      ]
     },
     "metadata": {
      "needs_background": "light"
     },
     "output_type": "display_data"
    }
   ],
   "source": [
    "\n",
    "import matplotlib.pyplot as plt\n",
    "\n",
    "lr_idx = 1\n",
    "\n",
    "x = lamb_arr\n",
    "y1 = results_acc[lr_idx, :]\n",
    "y2 = results_fair[lr_idx, :]\n",
    "\n",
    "print(y1, y2)\n",
    "\n",
    "fig, ax1 = plt.subplots()\n",
    "\n",
    "ax2 = ax1.twinx()\n",
    "ax1.plot(x, y1, 'go-')\n",
    "ax2.plot(x, y2, 'bo-')\n",
    "\n",
    "ax1.set_xlabel('lamb')\n",
    "ax1.set_ylabel('Test Acc', color='g')\n",
    "ax2.set_ylabel('Test Fair', color='b')\n",
    "\n",
    "plt.title(f\"adversary lr: {eta_arr[lr_idx]}\")\n",
    "\n",
    "plt.show()\n",
    "\n",
    "\n"
   ]
  },
  {
   "cell_type": "code",
   "execution_count": null,
   "id": "17c07540-1030-430e-a6fd-5f3a6f228fa7",
   "metadata": {},
   "outputs": [],
   "source": []
  },
  {
   "cell_type": "code",
   "execution_count": null,
   "id": "426713cc-6814-4af0-bda6-098e48569f9e",
   "metadata": {},
   "outputs": [],
   "source": []
  },
  {
   "cell_type": "code",
   "execution_count": null,
   "id": "a2687cc0-b9cb-4470-bc8e-f157654c6ea1",
   "metadata": {},
   "outputs": [],
   "source": []
  },
  {
   "cell_type": "code",
   "execution_count": null,
   "id": "2a164c7c-f573-4654-859b-4a6c03814b08",
   "metadata": {},
   "outputs": [],
   "source": []
  },
  {
   "cell_type": "code",
   "execution_count": null,
   "id": "79aa4966-2432-43b1-8c98-d909d810413e",
   "metadata": {},
   "outputs": [],
   "source": []
  }
 ],
 "metadata": {
  "kernelspec": {
   "display_name": "Python 3",
   "language": "python",
   "name": "python3"
  },
  "language_info": {
   "codemirror_mode": {
    "name": "ipython",
    "version": 3
   },
   "file_extension": ".py",
   "mimetype": "text/x-python",
   "name": "python",
   "nbconvert_exporter": "python",
   "pygments_lexer": "ipython3",
   "version": "3.8.8"
  }
 },
 "nbformat": 4,
 "nbformat_minor": 5
}
