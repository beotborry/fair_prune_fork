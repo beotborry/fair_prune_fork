{
 "cells": [
  {
   "cell_type": "code",
   "execution_count": 1,
   "id": "327e3b2c-0cb1-4d75-97fa-b05038cc15b5",
   "metadata": {},
   "outputs": [],
   "source": [
    "from scipy.io import loadmat"
   ]
  },
  {
   "cell_type": "code",
   "execution_count": 9,
   "id": "9b093f8f-3253-4929-b737-8456eae37af1",
   "metadata": {},
   "outputs": [],
   "source": [
    "\n",
    "def calc_fairness_metric(constraint, confu_mat, num_groups=2, num_classes=2):\n",
    "    if constraint == 'eopp':\n",
    "        '''\n",
    "        Compute EO disparity\n",
    "        '''\n",
    "        group0_tn, group0_fp, group0_fn, group0_tp = confu_mat['0'].ravel()\n",
    "        group1_tn, group1_fp, group1_fn, group1_tp = confu_mat['1'].ravel()\n",
    "\n",
    "        pivot = (group0_tp + group1_tp) / (group0_fn + group0_tp + group1_fn + group1_tp)\n",
    "        group0_tpr = group0_tp / (group0_fn + group0_tp)\n",
    "        group1_tpr = group1_tp / (group1_fn + group1_tp)\n",
    "\n",
    "        return max(abs(group0_tpr - pivot), abs(group1_tpr - pivot)) # from fairbatch paper\n",
    "        #return abs(group0_tp / (group0_fn + group0_tp) - group1_tp / (group1_fn + group1_tp))\n",
    "\n",
    "    elif constraint == 'eo':\n",
    "        '''\n",
    "        Compute ED disparity \n",
    "        '''\n",
    "\n",
    "        group0_tn, group0_fp, group0_fn, group0_tp = confu_mat['0'].ravel()\n",
    "        group1_tn, group1_fp, group1_fn, group1_tp = confu_mat['1'].ravel()\n",
    "        \n",
    "        pivot_1 = (group0_tp + group1_tp) / (group0_fn + group0_tp + group1_fn + group1_tp)\n",
    "        group0_tpr = group0_tp / (group0_fn + group0_tp)\n",
    "        group1_tpr = group1_tp / (group1_fn + group1_tp)\n",
    "\n",
    "        EO_Y_1 = max(abs(group0_tpr - pivot_1), abs(group1_tpr - pivot_1))\n",
    "\n",
    "        pivot_0 = (group0_fp + group1_fp) / (group0_tn + group0_fp + group1_tn + group1_fp)\n",
    "        group0_fpr = (group0_fp) / (group0_tn + group0_fp)\n",
    "        group1_fpr = (group1_fp) / (group1_tn + group1_fp)\n",
    "\n",
    "        EO_Y_0 = max(abs(group0_fpr - pivot_0), abs(group1_fpr - pivot_0))\n",
    "\n",
    "        return max(EO_Y_0, EO_Y_1)\n",
    "\n",
    "    elif constraint == 'dp':\n",
    "        pass\n"
   ]
  },
  {
   "cell_type": "code",
   "execution_count": 13,
   "id": "a9dfc769-3c69-4e24-99e4-2ab17e2d5118",
   "metadata": {},
   "outputs": [],
   "source": [
    "dataset = \"compas\"\n",
    "constraint = \"eo\"\n",
    "lr = 0.0005\n",
    "decay = 0.0005\n",
    "epoch = 50\n",
    "iteration = 10\n",
    "seed_arr = [0, 1, 2, 3, 4]\n",
    "date = \"20220211\"\n",
    "method = \"adv_debiasing\"\n",
    "sen_attr = \"sex\""
   ]
  },
  {
   "cell_type": "code",
   "execution_count": 17,
   "id": "7c8d5c4f-06f1-4c02-95da-657bb04ca67c",
   "metadata": {},
   "outputs": [
    {
     "name": "stdout",
     "output_type": "stream",
     "text": [
      "0.003990266636421741\n",
      "0.041294619842039054\n",
      "0.07748541026539912\n",
      "0.008166969147005432\n",
      "0.04446460980036293\n",
      "0.004473895243320869\n",
      "0.05911028573840371\n",
      "0.06012324315198586\n",
      "0.04587852952348803\n",
      "0.020343142309199286\n",
      "0.04896583011981115\n",
      "0.02483855991221029\n",
      "0.05335821664982576\n",
      "0.024910811869754412\n",
      "0.024226564808171203\n",
      "0.024437597602667505\n",
      "0.06919765331532518\n",
      "0.0498731775720207\n",
      "0.01576414974887097\n",
      "0.05427763474443925\n"
     ]
    }
   ],
   "source": [
    "for seed in seed_arr:\n",
    "    for eta in [0.001, 0.003, 0.005, 0.007]:\n",
    "        for lamb in [1, 2, 3, 4, 5, 6, 7, 8, 9, 10]:\n",
    "            confu_mat = loadmat(f\"./results/{date}/{dataset}/{method}/mlp_sex_seed{seed}_epochs{epoch}_bs128_lr{lr}_decay{decay}_adv_lamb{lamb:.1f}_eta{eta}_test_confu\")\n",
    "            print(calc_fairness_metric(constraint, confu_mat))"
   ]
  },
  {
   "cell_type": "code",
   "execution_count": null,
   "id": "9e71a2a2-6c8b-40f3-8c1f-1691dfaa20a5",
   "metadata": {},
   "outputs": [],
   "source": []
  }
 ],
 "metadata": {
  "kernelspec": {
   "display_name": "Python 3",
   "language": "python",
   "name": "python3"
  },
  "language_info": {
   "codemirror_mode": {
    "name": "ipython",
    "version": 3
   },
   "file_extension": ".py",
   "mimetype": "text/x-python",
   "name": "python",
   "nbconvert_exporter": "python",
   "pygments_lexer": "ipython3",
   "version": "3.8.8"
  }
 },
 "nbformat": 4,
 "nbformat_minor": 5
}
