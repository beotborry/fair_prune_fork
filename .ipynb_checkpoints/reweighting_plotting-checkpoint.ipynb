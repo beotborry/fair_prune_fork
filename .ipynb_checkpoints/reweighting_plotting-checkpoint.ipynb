{
 "cells": [
  {
   "cell_type": "code",
   "execution_count": 31,
   "id": "56b91917-2a55-4de6-b2bd-325ee1e93af5",
   "metadata": {},
   "outputs": [],
   "source": [
    "from scipy.io import loadmat\n",
    "import numpy as np"
   ]
  },
  {
   "cell_type": "code",
   "execution_count": 32,
   "id": "f6695b72-9523-4bbb-ac7d-1001820f4ec7",
   "metadata": {},
   "outputs": [],
   "source": [
    "def calc_fairness_metric(constraint, confu_mat, num_groups=2, num_classes=2):\n",
    "    if constraint == 'eopp':\n",
    "        '''\n",
    "        Compute EO disparity\n",
    "        '''\n",
    "        group0_tn, group0_fp, group0_fn, group0_tp = confu_mat['0'].ravel()\n",
    "        group1_tn, group1_fp, group1_fn, group1_tp = confu_mat['1'].ravel()\n",
    "\n",
    "        pivot = (group0_tp + group1_tp) / (group0_fn + group0_tp + group1_fn + group1_tp)\n",
    "        group0_tpr = group0_tp / (group0_fn + group0_tp)\n",
    "        group1_tpr = group1_tp / (group1_fn + group1_tp)\n",
    "\n",
    "        return max(abs(group0_tpr - pivot), abs(group1_tpr - pivot)) # from fairbatch paper\n",
    "        #return abs(group0_tp / (group0_fn + group0_tp) - group1_tp / (group1_fn + group1_tp))\n",
    "\n",
    "    elif constraint == 'eo':\n",
    "        '''\n",
    "        Compute ED disparity \n",
    "        '''\n",
    "\n",
    "        group0_tn, group0_fp, group0_fn, group0_tp = confu_mat['0'].ravel()\n",
    "        group1_tn, group1_fp, group1_fn, group1_tp = confu_mat['1'].ravel()\n",
    "        \n",
    "        pivot_1 = (group0_tp + group1_tp) / (group0_fn + group0_tp + group1_fn + group1_tp)\n",
    "        group0_tpr = group0_tp / (group0_fn + group0_tp)\n",
    "        group1_tpr = group1_tp / (group1_fn + group1_tp)\n",
    "\n",
    "        EO_Y_1 = max(abs(group0_tpr - pivot_1), abs(group1_tpr - pivot_1))\n",
    "\n",
    "        pivot_0 = (group0_fp + group1_fp) / (group0_tn + group0_fp + group1_tn + group1_fp)\n",
    "        group0_fpr = (group0_fp) / (group0_tn + group0_fp)\n",
    "        group1_fpr = (group1_fp) / (group1_tn + group1_fp)\n",
    "\n",
    "        EO_Y_0 = max(abs(group0_fpr - pivot_0), abs(group1_fpr - pivot_0))\n",
    "\n",
    "        return max(EO_Y_0, EO_Y_1)\n",
    "\n",
    "    elif constraint == 'dp':\n",
    "        pass\n",
    "\n",
    "def calc_acc(constraint, confu_mat, num_classes=2, num_groups=2):\n",
    "    group0_tn, group0_fp, group0_fn, group0_tp = confu_mat['0'].ravel()\n",
    "    group1_tn, group1_fp, group1_fn, group1_tp = confu_mat['1'].ravel()\n",
    "    \n",
    "    return (group0_tn + group0_tp + group1_tn + group1_tp) / (confu_mat['0'].ravel().sum() + confu_mat['1'].ravel().sum())\n"
   ]
  },
  {
   "cell_type": "code",
   "execution_count": 33,
   "id": "4a4b9e62-b3ce-48a7-9238-be2d14797014",
   "metadata": {},
   "outputs": [],
   "source": [
    "\n",
    "method = \"reweighting\"\n",
    "dataset = \"compas\"\n",
    "sen_attr_dict = {\n",
    "    \"adult\": \"sex\",\n",
    "    \"compas\": \"sex\",\n",
    "    \"retiring_adult\": \"race\",\n",
    "    \"retiring_adult_coverage\": \"race\"\n",
    "}\n",
    "\n",
    "sen_attr = sen_attr_dict[dataset]\n",
    "constraint = \"eopp\"\n"
   ]
  },
  {
   "cell_type": "code",
   "execution_count": 34,
   "id": "15a46111-5ba0-42c2-81fb-af641cf06615",
   "metadata": {},
   "outputs": [],
   "source": [
    "\n",
    "filename_epi = \"mlp_{}_seed{}_epochs5_bs128_lr{}_decay{:.4f}\"\n",
    "seed_arr = [0, 1, 2, 3, 4]\n",
    "date = \"20220214\"\n",
    "\n",
    "if method == \"reweighting\":\n",
    "    filename = filename_epi + \"_constraint{}_eta{}_iter{}_test_confu\"\n",
    "#     lr_arr = [0.0003, 0.0005]\n",
    "    lr_arr = [0.0001, 0.0003, 0.0005]\n",
    "    eta_arr = [0.1, 0.2, 0.3, 0.5, 1.0, 2.0, 3.0, 5.0, 10.0, 20.0, 30.0]\n",
    "    decay = 0.0005\n",
    "    iteration = 10\n",
    "    \n",
    "elif method == \"adv_debiasing\":\n",
    "    filename = filename_epi + \"_adv_lamb{}_eta{}_constraint{}_test_confu\"\n",
    "    lr = 0.0005\n",
    "    decay = 0.0005\n",
    "#     lamb_arr = [1, 2, 3, 4, 5, 6, 7, 8, 9, 10]\n",
    "    lamb_arr = [0.001, 0.003, 0.01, 0.03, 0.1, 0.3, 1.0, 3.0, 10.0, 20.0, 30.0, 50.0, 100.0]\n",
    "#     eta_arr = [0.001, 0.003, 0.005, 0.007, 0.01]\n",
    "    eta_arr = [0.001, 0.003, 0.005, 0.01]\n",
    "    \n"
   ]
  },
  {
   "cell_type": "code",
   "execution_count": 35,
   "id": "545c5722-eba2-4ac0-b7a7-3686b239d962",
   "metadata": {},
   "outputs": [
    {
     "name": "stdout",
     "output_type": "stream",
     "text": [
      "[[0.26791035 0.27110961 0.26950998 0.2647111  0.25860803 0.24298738\n",
      "  0.2329591  0.23274385 0.22206981 0.19352973 0.18954966]\n",
      " [0.23684633 0.24004558 0.23684633 0.23829823 0.24331237 0.23509897\n",
      "  0.22513823 0.2265226  0.21533786 0.21360317 0.20663909]\n",
      " [0.24555776 0.24839404 0.24163255 0.24867682 0.23944203 0.22905077\n",
      "  0.21705989 0.21059385 0.19424725 0.20544465 0.20618326]]\n",
      "[[0.66758509 0.66726094 0.66855754 0.66985413 0.67034036 0.66758509\n",
      "  0.66482982 0.663047   0.65688817 0.65186386 0.64700162]\n",
      " [0.67763371 0.67779579 0.67779579 0.67747164 0.67487844 0.67179903\n",
      "  0.67293355 0.67115073 0.66272285 0.65299838 0.64894652]\n",
      " [0.68006483 0.67925446 0.68055105 0.68071313 0.67974068 0.67844408\n",
      "  0.67747164 0.67341977 0.66677472 0.65850891 0.6547812 ]]\n"
     ]
    }
   ],
   "source": [
    "\n",
    "results_fair = np.zeros((len(seed_arr), len(lr_arr), len(eta_arr)))\n",
    "results_acc = np.zeros((len(seed_arr), len(lr_arr), len(eta_arr)))\n",
    "\n",
    "for seed in seed_arr:\n",
    "    for i, lr in enumerate(lr_arr):\n",
    "        for j, eta in enumerate(eta_arr):\n",
    "            confu_mat = loadmat(\"./results/{}/{}/{}/{}\".format(date, dataset, method, filename.format(sen_attr, seed, lr, decay, constraint, eta, iteration)), appendmat=False)\n",
    "#             print(calc_fairness_metric(constraint, confu_mat))\n",
    "            results_fair[seed, i, j] += calc_fairness_metric(constraint, confu_mat)\n",
    "            results_acc[seed, i, j] += calc_acc(constraint, confu_mat)\n",
    "\n",
    "results_fair = np.mean(results_fair, axis=0)\n",
    "results_acc = np.mean(results_acc, axis=0)\n",
    "\n",
    "\n",
    "print(results_fair)\n",
    "print(results_acc)\n"
   ]
  },
  {
   "cell_type": "code",
   "execution_count": 36,
   "id": "4dcf8439-aa76-4c67-921b-a8c8545507d0",
   "metadata": {},
   "outputs": [
    {
     "name": "stdout",
     "output_type": "stream",
     "text": [
      "(0, 10)\n",
      "0.189549656016545 0.647001620745543\n"
     ]
    }
   ],
   "source": [
    "\n",
    "argmin = np.unravel_index(results_fair.argmin(), results_fair.shape)\n",
    "print(argmin)\n",
    "print(results_fair[argmin], results_acc[argmin])\n"
   ]
  },
  {
   "cell_type": "code",
   "execution_count": 40,
   "id": "6f0d5d5a-efba-4067-8c6f-8c832faf845d",
   "metadata": {},
   "outputs": [
    {
     "data": {
      "image/png": "[encoded data removed]",
      "text/plain": [
       "<Figure size 432x288 with 2 Axes>"
      ]
     },
     "metadata": {
      "needs_background": "light"
     },
     "output_type": "display_data"
    }
   ],
   "source": [
    "\n",
    "import matplotlib.pyplot as plt\n",
    "\n",
    "lr_idx = 2\n",
    "\n",
    "x = eta_arr\n",
    "y1 = results_acc[lr_idx, :]\n",
    "y2 = results_fair[lr_idx, :]\n",
    "\n",
    "fig, ax1 = plt.subplots()\n",
    "\n",
    "ax2 = ax1.twinx()\n",
    "ax1.plot(x, y1, 'go-')\n",
    "ax2.plot(x, y2, 'bo-')\n",
    "\n",
    "ax1.set_xlabel('lamb')\n",
    "ax1.set_ylabel('Test Acc', color='g')\n",
    "ax2.set_ylabel('Test Fair', color='b')\n",
    "\n",
    "plt.title(f\"adversary lr: {lr_arr[lr_idx]}\")\n",
    "\n",
    "plt.show()\n",
    "\n",
    "\n"
   ]
  },
  {
   "cell_type": "code",
   "execution_count": null,
   "id": "450181ea-6004-4dcb-9ee8-87249cd2467c",
   "metadata": {},
   "outputs": [],
   "source": []
  },
  {
   "cell_type": "code",
   "execution_count": null,
   "id": "d453c651-eeac-42b4-9bbc-8e96afa22c0b",
   "metadata": {},
   "outputs": [],
   "source": []
  },
  {
   "cell_type": "code",
   "execution_count": null,
   "id": "e8e45fb8-cf3c-4e19-bbea-03c1a8405d48",
   "metadata": {},
   "outputs": [],
   "source": []
  },
  {
   "cell_type": "code",
   "execution_count": null,
   "id": "26d51182-90b6-4ff0-9120-5ba10eb6279c",
   "metadata": {},
   "outputs": [],
   "source": []
  }
 ],
 "metadata": {
  "kernelspec": {
   "display_name": "Python 3",
   "language": "python",
   "name": "python3"
  },
  "language_info": {
   "codemirror_mode": {
    "name": "ipython",
    "version": 3
   },
   "file_extension": ".py",
   "mimetype": "text/x-python",
   "name": "python",
   "nbconvert_exporter": "python",
   "pygments_lexer": "ipython3",
   "version": "3.8.8"
  }
 },
 "nbformat": 4,
 "nbformat_minor": 5
}
